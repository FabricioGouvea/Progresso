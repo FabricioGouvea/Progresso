{
  "nbformat": 4,
  "nbformat_minor": 0,
  "metadata": {
    "colab": {
      "provenance": [],
      "authorship_tag": "ABX9TyOr6wAa5WsTm2aiwvNeUjpr",
      "include_colab_link": true
    },
    "kernelspec": {
      "name": "python3",
      "display_name": "Python 3"
    },
    "language_info": {
      "name": "python"
    }
  },
  "cells": [
    {
      "cell_type": "markdown",
      "metadata": {
        "id": "view-in-github",
        "colab_type": "text"
      },
      "source": [
        "<a href=\"https://colab.research.google.com/github/FabricioGouvea/Progresso/blob/primeiros-passos/Roteiro_estudos_em_Python.ipynb\" target=\"_parent\"><img src=\"https://colab.research.google.com/assets/colab-badge.svg\" alt=\"Open In Colab\"/></a>"
      ]
    },
    {
      "cell_type": "code",
      "execution_count": 153,
      "metadata": {
        "colab": {
          "base_uri": "https://localhost:8080/"
        },
        "id": "QQtZujjZIJBE",
        "outputId": "dea528a0-4450-4ccd-8402-f3fc5028a7b2"
      },
      "outputs": [
        {
          "name": "stdout",
          "output_type": "stream",
          "text": [
            "Digite um número inteiro para saber como é sua forma escrita por extenso: 99\n"
          ]
        }
      ],
      "source": [
        "try:\n",
        "  numero = int(input(\"Digite um número inteiro para saber como é sua forma escrita por extenso: \"))\n",
        "except ValueError:\n",
        "  print(\"O numero digitado não é um valor inteiro!\")\n",
        "unidade = len(str(numero))\n",
        "valor = str(numero)"
      ]
    },
    {
      "cell_type": "code",
      "source": [
        "lista_de_numeros1 = ['zero','um','dois','três','quatro','cinco','seis','sete','oito','nove','dez','onze','doze','treze','quartoze','quinze','dezesseis',\n",
        "                     'dezessete','dezoito','dezenove','vinte','trinta','quarenta','cinquenta','sessenta','setenta','oitenta','noventa','cem','cento','duzentos',\n",
        "                     'trezentos','quatrocentos','quinhentos','seiscentos','setecentos','oitocentos','novecentos']"
      ],
      "metadata": {
        "id": "Ygia7bYqLQge"
      },
      "execution_count": 54,
      "outputs": []
    },
    {
      "cell_type": "code",
      "source": [
        "lista_de_unidades = ['mil','milhão','milhões']"
      ],
      "metadata": {
        "id": "hk0i2lBPQeTW"
      },
      "execution_count": 55,
      "outputs": []
    },
    {
      "cell_type": "code",
      "source": [
        "if unidade == 1:\n",
        "  print(lista_de_numeros1[numero])\n",
        "elif unidade == 2 and int(valor[0]) == 1:\n",
        "  print(lista_de_numeros1[numero])\n",
        "elif unidade == 2 and int(valor[0]) == 2:\n",
        "  print(lista_de_numeros1[20]+ ' e '+ lista_de_numeros1[int(valor[1])])\n",
        "elif unidade == 2 and int(valor[0]) == 3:\n",
        "  print(lista_de_numeros1[21]+ ' e '+ lista_de_numeros1[int(valor[1])])\n",
        "elif unidade == 2 and int(valor[0]) == 4:\n",
        "  print(lista_de_numeros1[22]+ ' e '+ lista_de_numeros1[int(valor[1])])\n",
        "elif unidade == 2 and int(valor[0]) == 5:\n",
        "  print(lista_de_numeros1[23]+ ' e '+ lista_de_numeros1[int(valor[1])])\n",
        "elif unidade == 2 and int(valor[0]) == 6:\n",
        "  print(lista_de_numeros1[24]+ ' e '+ lista_de_numeros1[int(valor[1])])\n",
        "elif unidade == 2 and int(valor[0]) == 7:\n",
        "  print(lista_de_numeros1[25]+ ' e '+ lista_de_numeros1[int(valor[1])])\n",
        "elif unidade == 2 and int(valor[0]) == 8:\n",
        "  print(lista_de_numeros1[26]+ ' e '+ lista_de_numeros1[int(valor[1])])\n",
        "elif unidade == 2 and int(valor[0]) == 9:\n",
        "  print(lista_de_numeros1[27]+ ' e '+ lista_de_numeros1[int(valor[1])])\n",
        "elif unidade == 3 and numero == 100:\n",
        "  print(lista_de_numeros1[28])\n",
        "elif unidade == 3 and int(valor[0]) == 1 and int(valor[1]) == 0:\n",
        "  print(lista_de_numeros1[29] + ' e ' + lista_de_numeros1[int(valor[2])])\n",
        "elif unidade == 3 and int(valor[0]) == 1 and int(valor[1]) == 1:\n",
        "  print(lista_de_numeros1[29] + ' e ' + lista_de_numeros1[int(valor[1:])])\n",
        "elif unidade == 3 and int(valor[0]) == 1 and int(valor[1:]) == 20:\n",
        "  print(lista_de_numeros1[29] + ' e '+lista_de_numeros1[20])\n",
        "elif unidade == 3 and int(valor[0]) == 1 and int(valor[1]) == 2:\n",
        "  print(lista_de_numeros1[29] + ' e '+ lista_de_numeros1[20] + ' e ' + lista_de_numeros1[int(valor[2])])\n",
        "else:\n",
        "  print('Nenhuma opção funcionou')\n"
      ],
      "metadata": {
        "colab": {
          "base_uri": "https://localhost:8080/"
        },
        "id": "AXkikyh2Sy5N",
        "outputId": "31713f8f-4375-4fad-ad72-62d239464c6c"
      },
      "execution_count": 154,
      "outputs": [
        {
          "output_type": "stream",
          "name": "stdout",
          "text": [
            "noventa e nove\n"
          ]
        }
      ]
    },
    {
      "cell_type": "code",
      "source": [
        "## Código com dica do professor"
      ],
      "metadata": {
        "id": "IsbOqMMb3oRV"
      },
      "execution_count": null,
      "outputs": []
    },
    {
      "cell_type": "code",
      "source": [
        "numero_3 = int(input(\"Digite um número para saber sua forma escrita por extenso: \"))\n",
        "digitos = str(numero_3)"
      ],
      "metadata": {
        "colab": {
          "base_uri": "https://localhost:8080/"
        },
        "id": "AjrWF2SOupPJ",
        "outputId": "f23456b5-a9c1-42ed-dea1-02e9c6919a5e"
      },
      "execution_count": 155,
      "outputs": [
        {
          "name": "stdout",
          "output_type": "stream",
          "text": [
            "Digite um número para saber sua forma escrita por extenso: 99\n"
          ]
        }
      ]
    },
    {
      "cell_type": "code",
      "source": [
        "lista_unidades = ['zero','um','dois','três','quatro','cinco','seis','sete','oito','nove','dez','onze','doze','treze','quartoze','quinze','dezesseis',\n",
        "                     'dezessete','dezoito','dezenove']"
      ],
      "metadata": {
        "id": "EuFf11Squ8fA"
      },
      "execution_count": 145,
      "outputs": []
    },
    {
      "cell_type": "code",
      "source": [
        "lista_dezenas = ['indice_0','dez','vinte','trinta','quarenta','cinquenta','sessenta','setenta','oitenta','noventa']"
      ],
      "metadata": {
        "id": "y11CgLb7vNCg"
      },
      "execution_count": 75,
      "outputs": []
    },
    {
      "cell_type": "code",
      "source": [
        "lista_centenas = ['cem','cento','duzentos','trezentos','quatrocentos','quinhentos','seiscentos','setecentos','oitocentos','novecentos']"
      ],
      "metadata": {
        "id": "A0TQtlWYvlJX"
      },
      "execution_count": 148,
      "outputs": []
    },
    {
      "cell_type": "code",
      "source": [
        "if (numero_3%10 == 0) and (numero_3 != 0):                                        ## Quando numero for 20,30..90\n",
        "  print(lista_dezenas[int(digitos[0])])\n",
        "elif (float(numero_3/10) < 10) and (float(numero_3/10) > 2):                      ## Quando numero for de 21 até 99\n",
        "  print(lista_dezenas[int(digitos[0])]+' e ' + lista_unidades[int(digitos[1])])\n",
        "else:                                                                             ## Quando numero for de 0 a 19\n",
        "  print(lista_unidades[numero_3])\n"
      ],
      "metadata": {
        "colab": {
          "base_uri": "https://localhost:8080/"
        },
        "id": "szBaBcFaedT1",
        "outputId": "fbffd64d-29f2-4b38-a7e8-bf96988bf607"
      },
      "execution_count": 156,
      "outputs": [
        {
          "output_type": "stream",
          "name": "stdout",
          "text": [
            "noventa e nove\n"
          ]
        }
      ]
    }
  ]
}